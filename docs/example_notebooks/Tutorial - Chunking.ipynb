{
 "cells": [
  {
   "cell_type": "code",
   "execution_count": null,
   "metadata": {},
   "outputs": [],
   "source": [
    "import nannyml as nml\n",
    "reference, analysis, _ = nml.load_synthetic_car_loan_dataset()"
   ]
  },
  {
   "cell_type": "code",
   "execution_count": null,
   "metadata": {},
   "outputs": [
    {
     "name": "stderr",
     "output_type": "stream",
     "text": [
      "/home/niels/Code/nml/nannyml/nannyml/nannyml/chunk.py:181: UserWarning: The resulting number of chunks is too low. Please consider splitting your data in a different way or continue at your own risk.\n",
      "  warnings.warn(\n",
      "/home/niels/Code/nml/nannyml/nannyml/nannyml/chunk.py:181: UserWarning: The resulting number of chunks is too low. Please consider splitting your data in a different way or continue at your own risk.\n",
      "  warnings.warn(\n"
     ]
    },
    {
     "name": "stderr",
     "output_type": "stream",
     "text": [
      "/home/niels/Code/nml/nannyml/nannyml/nannyml/chunk.py:181: UserWarning: The resulting number of chunks is too low. Please consider splitting your data in a different way or continue at your own risk.\n",
      "  warnings.warn(\n"
     ]
    },
    {
     "data": {
      "text/html": [
       "<div>\n",
       "<style scoped>\n",
       "    .dataframe tbody tr th:only-of-type {\n",
       "        vertical-align: middle;\n",
       "    }\n",
       "\n",
       "    .dataframe tbody tr th {\n",
       "        vertical-align: top;\n",
       "    }\n",
       "\n",
       "    .dataframe thead tr th {\n",
       "        text-align: left;\n",
       "    }\n",
       "</style>\n",
       "<table border=\"1\" class=\"dataframe\">\n",
       "  <thead>\n",
       "    <tr>\n",
       "      <th></th>\n",
       "      <th colspan=\"6\" halign=\"left\">chunk</th>\n",
       "    </tr>\n",
       "    <tr>\n",
       "      <th></th>\n",
       "      <th>key</th>\n",
       "      <th>chunk_index</th>\n",
       "      <th>start_index</th>\n",
       "      <th>end_index</th>\n",
       "      <th>start_date</th>\n",
       "      <th>end_date</th>\n",
       "    </tr>\n",
       "  </thead>\n",
       "  <tbody>\n",
       "    <tr>\n",
       "      <th>0</th>\n",
       "      <td>2018Q1</td>\n",
       "      <td>0</td>\n",
       "      <td>0</td>\n",
       "      <td>14863</td>\n",
       "      <td>2018-01-01</td>\n",
       "      <td>2018-03-31 23:59:59.999999999</td>\n",
       "    </tr>\n",
       "    <tr>\n",
       "      <th>1</th>\n",
       "      <td>2018Q2</td>\n",
       "      <td>1</td>\n",
       "      <td>14864</td>\n",
       "      <td>29892</td>\n",
       "      <td>2018-04-01</td>\n",
       "      <td>2018-06-30 23:59:59.999999999</td>\n",
       "    </tr>\n",
       "    <tr>\n",
       "      <th>2</th>\n",
       "      <td>2018Q3</td>\n",
       "      <td>2</td>\n",
       "      <td>29893</td>\n",
       "      <td>45086</td>\n",
       "      <td>2018-07-01</td>\n",
       "      <td>2018-09-30 23:59:59.999999999</td>\n",
       "    </tr>\n",
       "  </tbody>\n",
       "</table>\n",
       "</div>"
      ],
      "text/plain": [
       "    chunk                                               \\\n",
       "      key chunk_index start_index end_index start_date   \n",
       "0  2018Q1           0           0     14863 2018-01-01   \n",
       "1  2018Q2           1       14864     29892 2018-04-01   \n",
       "2  2018Q3           2       29893     45086 2018-07-01   \n",
       "\n",
       "                                 \n",
       "                       end_date  \n",
       "0 2018-03-31 23:59:59.999999999  \n",
       "1 2018-06-30 23:59:59.999999999  \n",
       "2 2018-09-30 23:59:59.999999999  "
      ]
     },
     "execution_count": 2,
     "metadata": {},
     "output_type": "execute_result"
    }
   ],
   "source": [
    "cbpe = nml.CBPE(\n",
    "    y_pred_proba='y_pred_proba',\n",
    "    y_pred='y_pred',\n",
    "    y_true='repaid',\n",
    "    timestamp_column_name='timestamp',\n",
    "    metrics=['roc_auc'],\n",
    "    problem_type='classification_binary',\n",
    "    chunk_period=\"Q\", # here we define the chunk period.\n",
    ")\n",
    "cbpe.fit(reference)\n",
    "est_perf = cbpe.estimate(analysis)\n",
    "\n",
    "est_perf.data.iloc[:3, :6]"
   ]
  },
  {
   "cell_type": "code",
   "execution_count": null,
   "metadata": {},
   "outputs": [
    {
     "name": "stdout",
     "output_type": "stream",
     "text": [
      "+----+--------------------+----------------------------+----------------------------+--------------------------+---------------------------+-------------------------------+\n",
      "|    | ('chunk', 'key')   |   ('chunk', 'chunk_index') |   ('chunk', 'start_index') |   ('chunk', 'end_index') | ('chunk', 'start_date')   | ('chunk', 'end_date')         |\n",
      "+====+====================+============================+============================+==========================+===========================+===============================+\n",
      "|  0 | 2018Q1             |                          0 |                          0 |                    14863 | 2018-01-01 00:00:00       | 2018-03-31 23:59:59.999999999 |\n",
      "+----+--------------------+----------------------------+----------------------------+--------------------------+---------------------------+-------------------------------+\n",
      "|  1 | 2018Q2             |                          1 |                      14864 |                    29892 | 2018-04-01 00:00:00       | 2018-06-30 23:59:59.999999999 |\n",
      "+----+--------------------+----------------------------+----------------------------+--------------------------+---------------------------+-------------------------------+\n",
      "|  2 | 2018Q3             |                          2 |                      29893 |                    45086 | 2018-07-01 00:00:00       | 2018-09-30 23:59:59.999999999 |\n",
      "+----+--------------------+----------------------------+----------------------------+--------------------------+---------------------------+-------------------------------+\n"
     ]
    }
   ],
   "source": [
    "print(est_perf.data.iloc[:3, :6].to_markdown(tablefmt=\"grid\"))"
   ]
  },
  {
   "cell_type": "code",
   "execution_count": null,
   "metadata": {},
   "outputs": [
    {
     "data": {
      "text/html": [
       "<div>\n",
       "<style scoped>\n",
       "    .dataframe tbody tr th:only-of-type {\n",
       "        vertical-align: middle;\n",
       "    }\n",
       "\n",
       "    .dataframe tbody tr th {\n",
       "        vertical-align: top;\n",
       "    }\n",
       "\n",
       "    .dataframe thead tr th {\n",
       "        text-align: left;\n",
       "    }\n",
       "</style>\n",
       "<table border=\"1\" class=\"dataframe\">\n",
       "  <thead>\n",
       "    <tr>\n",
       "      <th></th>\n",
       "      <th colspan=\"6\" halign=\"left\">chunk</th>\n",
       "    </tr>\n",
       "    <tr>\n",
       "      <th></th>\n",
       "      <th>key</th>\n",
       "      <th>chunk_index</th>\n",
       "      <th>start_index</th>\n",
       "      <th>end_index</th>\n",
       "      <th>start_date</th>\n",
       "      <th>end_date</th>\n",
       "    </tr>\n",
       "  </thead>\n",
       "  <tbody>\n",
       "    <tr>\n",
       "      <th>0</th>\n",
       "      <td>[0:3499]</td>\n",
       "      <td>0</td>\n",
       "      <td>0</td>\n",
       "      <td>3499</td>\n",
       "      <td>2018-01-01 00:00:00</td>\n",
       "      <td>2018-01-22 04:28:28.848</td>\n",
       "    </tr>\n",
       "    <tr>\n",
       "      <th>1</th>\n",
       "      <td>[3500:6999]</td>\n",
       "      <td>1</td>\n",
       "      <td>3500</td>\n",
       "      <td>6999</td>\n",
       "      <td>2018-01-22 04:37:12</td>\n",
       "      <td>2018-02-12 09:05:40.848</td>\n",
       "    </tr>\n",
       "    <tr>\n",
       "      <th>2</th>\n",
       "      <td>[7000:10499]</td>\n",
       "      <td>2</td>\n",
       "      <td>7000</td>\n",
       "      <td>10499</td>\n",
       "      <td>2018-02-12 09:14:24</td>\n",
       "      <td>2018-03-05 13:42:52.848</td>\n",
       "    </tr>\n",
       "  </tbody>\n",
       "</table>\n",
       "</div>"
      ],
      "text/plain": [
       "          chunk                                                        \\\n",
       "            key chunk_index start_index end_index          start_date   \n",
       "0      [0:3499]           0           0      3499 2018-01-01 00:00:00   \n",
       "1   [3500:6999]           1        3500      6999 2018-01-22 04:37:12   \n",
       "2  [7000:10499]           2        7000     10499 2018-02-12 09:14:24   \n",
       "\n",
       "                           \n",
       "                 end_date  \n",
       "0 2018-01-22 04:28:28.848  \n",
       "1 2018-02-12 09:05:40.848  \n",
       "2 2018-03-05 13:42:52.848  "
      ]
     },
     "execution_count": 4,
     "metadata": {},
     "output_type": "execute_result"
    }
   ],
   "source": [
    "cbpe = nml.CBPE(\n",
    "    y_pred_proba='y_pred_proba',\n",
    "    y_pred='y_pred',\n",
    "    y_true='repaid',\n",
    "    timestamp_column_name='timestamp',\n",
    "    metrics=['roc_auc'],\n",
    "    problem_type='classification_binary',\n",
    "    chunk_size=3500, # here we define the chunk size.\n",
    ")\n",
    "cbpe.fit(reference)\n",
    "est_perf = cbpe.estimate(analysis)\n",
    "\n",
    "est_perf.data.iloc[:3, :6]\n"
   ]
  },
  {
   "cell_type": "code",
   "execution_count": null,
   "metadata": {},
   "outputs": [
    {
     "name": "stdout",
     "output_type": "stream",
     "text": [
      "+----+--------------------+----------------------------+----------------------------+--------------------------+---------------------------+----------------------------+\n",
      "|    | ('chunk', 'key')   |   ('chunk', 'chunk_index') |   ('chunk', 'start_index') |   ('chunk', 'end_index') | ('chunk', 'start_date')   | ('chunk', 'end_date')      |\n",
      "+====+====================+============================+============================+==========================+===========================+============================+\n",
      "|  0 | [0:3499]           |                          0 |                          0 |                     3499 | 2018-01-01 00:00:00       | 2018-01-22 04:28:28.848000 |\n",
      "+----+--------------------+----------------------------+----------------------------+--------------------------+---------------------------+----------------------------+\n",
      "|  1 | [3500:6999]        |                          1 |                       3500 |                     6999 | 2018-01-22 04:37:12       | 2018-02-12 09:05:40.848000 |\n",
      "+----+--------------------+----------------------------+----------------------------+--------------------------+---------------------------+----------------------------+\n",
      "|  2 | [7000:10499]       |                          2 |                       7000 |                    10499 | 2018-02-12 09:14:24       | 2018-03-05 13:42:52.848000 |\n",
      "+----+--------------------+----------------------------+----------------------------+--------------------------+---------------------------+----------------------------+\n"
     ]
    }
   ],
   "source": [
    "print(est_perf.data.iloc[:3, :6].to_markdown(tablefmt=\"grid\"))\n"
   ]
  },
  {
   "cell_type": "code",
   "execution_count": null,
   "metadata": {},
   "outputs": [
    {
     "data": {
      "text/html": [
       "<div>\n",
       "<style scoped>\n",
       "    .dataframe tbody tr th:only-of-type {\n",
       "        vertical-align: middle;\n",
       "    }\n",
       "\n",
       "    .dataframe tbody tr th {\n",
       "        vertical-align: top;\n",
       "    }\n",
       "\n",
       "    .dataframe thead tr th {\n",
       "        text-align: left;\n",
       "    }\n",
       "</style>\n",
       "<table border=\"1\" class=\"dataframe\">\n",
       "  <thead>\n",
       "    <tr>\n",
       "      <th></th>\n",
       "      <th colspan=\"6\" halign=\"left\">chunk</th>\n",
       "    </tr>\n",
       "    <tr>\n",
       "      <th></th>\n",
       "      <th>key</th>\n",
       "      <th>chunk_index</th>\n",
       "      <th>start_index</th>\n",
       "      <th>end_index</th>\n",
       "      <th>start_date</th>\n",
       "      <th>end_date</th>\n",
       "    </tr>\n",
       "  </thead>\n",
       "  <tbody>\n",
       "    <tr>\n",
       "      <th>26</th>\n",
       "      <td>[42000:45499]</td>\n",
       "      <td>12</td>\n",
       "      <td>42000</td>\n",
       "      <td>45499</td>\n",
       "      <td>2019-07-12 01:26:24</td>\n",
       "      <td>2019-08-02 05:54:52.848</td>\n",
       "    </tr>\n",
       "    <tr>\n",
       "      <th>27</th>\n",
       "      <td>[45500:49999]</td>\n",
       "      <td>13</td>\n",
       "      <td>45500</td>\n",
       "      <td>49999</td>\n",
       "      <td>2019-08-02 06:03:36</td>\n",
       "      <td>2019-08-29 11:51:16.848</td>\n",
       "    </tr>\n",
       "  </tbody>\n",
       "</table>\n",
       "</div>"
      ],
      "text/plain": [
       "            chunk                                                        \\\n",
       "              key chunk_index start_index end_index          start_date   \n",
       "26  [42000:45499]          12       42000     45499 2019-07-12 01:26:24   \n",
       "27  [45500:49999]          13       45500     49999 2019-08-02 06:03:36   \n",
       "\n",
       "                            \n",
       "                  end_date  \n",
       "26 2019-08-02 05:54:52.848  \n",
       "27 2019-08-29 11:51:16.848  "
      ]
     },
     "execution_count": 6,
     "metadata": {},
     "output_type": "execute_result"
    }
   ],
   "source": [
    "est_perf.data.iloc[-2:,:6]\n"
   ]
  },
  {
   "cell_type": "code",
   "execution_count": null,
   "metadata": {},
   "outputs": [
    {
     "name": "stdout",
     "output_type": "stream",
     "text": [
      "+----+--------------------+----------------------------+----------------------------+--------------------------+---------------------------+----------------------------+\n",
      "|    | ('chunk', 'key')   |   ('chunk', 'chunk_index') |   ('chunk', 'start_index') |   ('chunk', 'end_index') | ('chunk', 'start_date')   | ('chunk', 'end_date')      |\n",
      "+====+====================+============================+============================+==========================+===========================+============================+\n",
      "| 26 | [42000:45499]      |                         12 |                      42000 |                    45499 | 2019-07-12 01:26:24       | 2019-08-02 05:54:52.848000 |\n",
      "+----+--------------------+----------------------------+----------------------------+--------------------------+---------------------------+----------------------------+\n",
      "| 27 | [45500:49999]      |                         13 |                      45500 |                    49999 | 2019-08-02 06:03:36       | 2019-08-29 11:51:16.848000 |\n",
      "+----+--------------------+----------------------------+----------------------------+--------------------------+---------------------------+----------------------------+\n"
     ]
    }
   ],
   "source": [
    "print(est_perf.data.iloc[-2:, :6].to_markdown(tablefmt=\"grid\"))\n"
   ]
  },
  {
   "cell_type": "code",
   "execution_count": null,
   "metadata": {},
   "outputs": [
    {
     "name": "stdout",
     "output_type": "stream",
     "text": [
      "4499\n"
     ]
    }
   ],
   "source": [
    "last = est_perf.data.iloc[-1].loc['chunk']\n",
    "print(last.loc['end_index'] - last.loc['start_index'])"
   ]
  },
  {
   "cell_type": "code",
   "execution_count": null,
   "metadata": {},
   "outputs": [
    {
     "data": {
      "text/plain": [
       "9"
      ]
     },
     "execution_count": 9,
     "metadata": {},
     "output_type": "execute_result"
    }
   ],
   "source": [
    "cbpe = nml.CBPE(\n",
    "    y_pred_proba='y_pred_proba',\n",
    "    y_pred='y_pred',\n",
    "    y_true='repaid',\n",
    "    timestamp_column_name='timestamp',\n",
    "    metrics=['roc_auc'],\n",
    "    problem_type='classification_binary',\n",
    "    chunk_number=9, # here we define the chunk number\n",
    "\n",
    ")\n",
    "\n",
    "cbpe.fit(reference)\n",
    "est_perf = cbpe.estimate(analysis)\n",
    "\n",
    "len(est_perf.filter(period='reference'))\n"
   ]
  },
  {
   "cell_type": "code",
   "execution_count": null,
   "metadata": {},
   "outputs": [
    {
     "data": {
      "text/html": [
       "<div>\n",
       "<style scoped>\n",
       "    .dataframe tbody tr th:only-of-type {\n",
       "        vertical-align: middle;\n",
       "    }\n",
       "\n",
       "    .dataframe tbody tr th {\n",
       "        vertical-align: top;\n",
       "    }\n",
       "\n",
       "    .dataframe thead tr th {\n",
       "        text-align: left;\n",
       "    }\n",
       "</style>\n",
       "<table border=\"1\" class=\"dataframe\">\n",
       "  <thead>\n",
       "    <tr>\n",
       "      <th></th>\n",
       "      <th colspan=\"6\" halign=\"left\">chunk</th>\n",
       "    </tr>\n",
       "    <tr>\n",
       "      <th></th>\n",
       "      <th>key</th>\n",
       "      <th>chunk_index</th>\n",
       "      <th>start_index</th>\n",
       "      <th>end_index</th>\n",
       "      <th>start_date</th>\n",
       "      <th>end_date</th>\n",
       "    </tr>\n",
       "  </thead>\n",
       "  <tbody>\n",
       "    <tr>\n",
       "      <th>7</th>\n",
       "      <td>[38885:44439]</td>\n",
       "      <td>7</td>\n",
       "      <td>38885</td>\n",
       "      <td>44439</td>\n",
       "      <td>2018-08-24 10:46:05.520</td>\n",
       "      <td>2018-09-27 01:52:31.728</td>\n",
       "    </tr>\n",
       "    <tr>\n",
       "      <th>8</th>\n",
       "      <td>[44440:49999]</td>\n",
       "      <td>8</td>\n",
       "      <td>44440</td>\n",
       "      <td>49999</td>\n",
       "      <td>2018-09-27 02:01:14.880</td>\n",
       "      <td>2018-10-30 17:51:16.848</td>\n",
       "    </tr>\n",
       "  </tbody>\n",
       "</table>\n",
       "</div>"
      ],
      "text/plain": [
       "           chunk                                                            \\\n",
       "             key chunk_index start_index end_index              start_date   \n",
       "7  [38885:44439]           7       38885     44439 2018-08-24 10:46:05.520   \n",
       "8  [44440:49999]           8       44440     49999 2018-09-27 02:01:14.880   \n",
       "\n",
       "                           \n",
       "                 end_date  \n",
       "7 2018-09-27 01:52:31.728  \n",
       "8 2018-10-30 17:51:16.848  "
      ]
     },
     "execution_count": 10,
     "metadata": {},
     "output_type": "execute_result"
    }
   ],
   "source": [
    "est_perf.filter(period='reference').data.iloc[-2:, :6]"
   ]
  },
  {
   "cell_type": "code",
   "execution_count": null,
   "metadata": {},
   "outputs": [
    {
     "name": "stdout",
     "output_type": "stream",
     "text": [
      "+----+--------------------+----------------------------+----------------------------+--------------------------+----------------------------+----------------------------+\n",
      "|    | ('chunk', 'key')   |   ('chunk', 'chunk_index') |   ('chunk', 'start_index') |   ('chunk', 'end_index') | ('chunk', 'start_date')    | ('chunk', 'end_date')      |\n",
      "+====+====================+============================+============================+==========================+============================+============================+\n",
      "|  7 | [38885:44439]      |                          7 |                      38885 |                    44439 | 2018-08-24 10:46:05.520000 | 2018-09-27 01:52:31.728000 |\n",
      "+----+--------------------+----------------------------+----------------------------+--------------------------+----------------------------+----------------------------+\n",
      "|  8 | [44440:49999]      |                          8 |                      44440 |                    49999 | 2018-09-27 02:01:14.880000 | 2018-10-30 17:51:16.848000 |\n",
      "+----+--------------------+----------------------------+----------------------------+--------------------------+----------------------------+----------------------------+\n"
     ]
    }
   ],
   "source": [
    "print(est_perf.filter(period='reference').data.iloc[-2:, :6].to_markdown(tablefmt=\"grid\"))\n"
   ]
  },
  {
   "cell_type": "code",
   "execution_count": null,
   "metadata": {},
   "outputs": [
    {
     "name": "stdout",
     "output_type": "stream",
     "text": [
      "first chunk len: 5554\n",
      "last chunk len: 5559\n"
     ]
    }
   ],
   "source": [
    "first = est_perf.data.iloc[1].loc['chunk']\n",
    "last = est_perf.data.iloc[-1].loc['chunk']\n",
    "\n",
    "print('first chunk len:', first.loc['end_index'] - first.loc['start_index'])\n",
    "print('last chunk len:', last.loc['end_index'] - last.loc['start_index'])\n"
   ]
  },
  {
   "cell_type": "code",
   "execution_count": null,
   "metadata": {},
   "outputs": [
    {
     "name": "stdout",
     "output_type": "stream",
     "text": [
      "10\n"
     ]
    }
   ],
   "source": [
    "cbpe = nml.CBPE(\n",
    "    y_pred_proba='y_pred_proba',\n",
    "    y_pred='y_pred',\n",
    "    y_true='repaid',\n",
    "    timestamp_column_name='timestamp',\n",
    "    metrics=['roc_auc'],\n",
    "    problem_type='classification_binary',\n",
    ")\n",
    "\n",
    "cbpe.fit(reference)\n",
    "est_perf = cbpe.estimate(analysis)\n",
    "\n",
    "print(len(est_perf.filter(period='reference')))\n"
   ]
  },
  {
   "cell_type": "code",
   "execution_count": null,
   "metadata": {},
   "outputs": [
    {
     "name": "stdout",
     "output_type": "stream",
     "text": [
      "Size of reference data: 50000\n",
      "The last index: 48999\n",
      "Last chunk size: 3500\n"
     ]
    }
   ],
   "source": [
    "from nannyml.chunk import SizeBasedChunker, CountBasedChunker\n",
    "\n",
    "# The reference dataset contains 50000 records\n",
    "print(f\"Size of reference data: {reference.shape[0]}\")\n",
    "\n",
    "# We can use the 'drop' strategy to handle incomplete chunks\n",
    "chunker = SizeBasedChunker(chunk_size=3500 , incomplete='drop')\n",
    "\n",
    "last = chunker.split(reference)[-1]\n",
    "print(f\"The last index: {last.end_index}\")\n",
    "print(f\"Last chunk size: {len(last)}\")"
   ]
  },
  {
   "cell_type": "code",
   "execution_count": null,
   "metadata": {},
   "outputs": [
    {
     "name": "stdout",
     "output_type": "stream",
     "text": [
      "Size of reference data: 50000\n",
      "The last index: 49999\n",
      "Last chunk size: 5560\n"
     ]
    }
   ],
   "source": [
    "# The reference dataset contains 50000 records\n",
    "print(f\"Size of reference data: {reference.shape[0]}\")\n",
    "\n",
    "# We can use a different chunker with another 'incomplete' strategy\n",
    "chunker_count_drop = CountBasedChunker(chunk_number=9, incomplete='append')\n",
    "\n",
    "last = chunker_count_drop.split(reference)[-1]\n",
    "print(f\"The last index: {last.end_index}\")\n",
    "print(f\"Last chunk size: {len(last)}\")"
   ]
  },
  {
   "cell_type": "code",
   "execution_count": null,
   "metadata": {},
   "outputs": [],
   "source": [
    "cbpe = nml.CBPE(\n",
    "    y_pred_proba='y_pred_proba',\n",
    "    y_pred='y_pred',\n",
    "    y_true='repaid',\n",
    "    timestamp_column_name='timestamp',\n",
    "    metrics=['roc_auc'],\n",
    "    problem_type='classification_binary',\n",
    "    chunker=chunker_count_drop\n",
    ").fit(reference_data=reference)"
   ]
  },
  {
   "cell_type": "code",
   "execution_count": null,
   "metadata": {},
   "outputs": [],
   "source": [
    "cbpe = nml.CBPE(\n",
    "    y_pred_proba='y_pred_proba',\n",
    "    y_pred='y_pred',\n",
    "    y_true='repaid',\n",
    "    timestamp_column_name='timestamp',\n",
    "    metrics=['roc_auc'],\n",
    "    problem_type='classification_binary',\n",
    "    chunk_size=5_000\n",
    ").fit(reference_data=reference)\n",
    "\n",
    "est_perf = cbpe.estimate(analysis)\n",
    "figure = est_perf.plot(kind='performance')\n",
    "figure.show()\n"
   ]
  },
  {
   "cell_type": "code",
   "execution_count": null,
   "metadata": {},
   "outputs": [],
   "source": [
    "figure.write_image(f'../_static/tutorials/chunking/chunk-size.svg')\n"
   ]
  }
 ],
 "metadata": {
  "kernelspec": {
   "display_name": "Python 3",
   "language": "python",
   "name": "python3"
  },
  "language_info": {
   "codemirror_mode": {
    "name": "ipython",
    "version": 3
   },
   "file_extension": ".py",
   "mimetype": "text/x-python",
   "name": "python",
   "nbconvert_exporter": "python",
   "pygments_lexer": "ipython3",
   "version": "3.8.8"
  }
 },
 "nbformat": 4,
 "nbformat_minor": 0
}
