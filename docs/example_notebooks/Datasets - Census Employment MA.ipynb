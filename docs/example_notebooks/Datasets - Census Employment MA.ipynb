{
 "cells": [
  {
   "cell_type": "code",
   "execution_count": 1,
   "id": "f7bf5d21",
   "metadata": {},
   "outputs": [],
   "source": [
    "import numpy as np\n",
    "import pandas as pd\n",
    "from lightgbm import LGBMClassifier\n",
    "from folktables import ACSDataSource, ACSEmployment"
   ]
  },
  {
   "cell_type": "code",
   "execution_count": 2,
   "id": "aa67672d",
   "metadata": {},
   "outputs": [],
   "source": [
    "from docs.utils import print_table"
   ]
  },
  {
   "cell_type": "code",
   "execution_count": 3,
   "id": "eed05d1a",
   "metadata": {},
   "outputs": [],
   "source": [
    "#  Get Data with folktables "
   ]
  },
  {
   "cell_type": "code",
   "execution_count": 4,
   "id": "fdcd1ca6",
   "metadata": {},
   "outputs": [],
   "source": [
    "# ACS data extracted from the US Census using folktables: https://github.com/socialfoundations/folktables\n",
    "# \n",
    "# Related paper:\n",
    "# Ding, Frances and Hardt, Moritz and Miller, John and Schmidt, Ludwig, **Retiring Adult: New Datasets for Fair Machine \n",
    "# Learning**,  Advances in Neural Information Processing Systems, vol.34, 2021"
   ]
  },
  {
   "cell_type": "code",
   "execution_count": 5,
   "id": "ac4dcc59",
   "metadata": {},
   "outputs": [
    {
     "data": {
      "text/html": [
       "<div>\n",
       "<style scoped>\n",
       "    .dataframe tbody tr th:only-of-type {\n",
       "        vertical-align: middle;\n",
       "    }\n",
       "\n",
       "    .dataframe tbody tr th {\n",
       "        vertical-align: top;\n",
       "    }\n",
       "\n",
       "    .dataframe thead th {\n",
       "        text-align: right;\n",
       "    }\n",
       "</style>\n",
       "<table border=\"1\" class=\"dataframe\">\n",
       "  <thead>\n",
       "    <tr style=\"text-align: right;\">\n",
       "      <th></th>\n",
       "      <th>AGEP</th>\n",
       "      <th>SCHL</th>\n",
       "      <th>MAR</th>\n",
       "      <th>RELP</th>\n",
       "      <th>DIS</th>\n",
       "      <th>ESP</th>\n",
       "      <th>CIT</th>\n",
       "      <th>MIG</th>\n",
       "      <th>MIL</th>\n",
       "      <th>ANC</th>\n",
       "      <th>NATIVITY</th>\n",
       "      <th>DEAR</th>\n",
       "      <th>DEYE</th>\n",
       "      <th>DREM</th>\n",
       "      <th>SEX</th>\n",
       "      <th>RAC1P</th>\n",
       "      <th>ESR</th>\n",
       "      <th>year</th>\n",
       "    </tr>\n",
       "  </thead>\n",
       "  <tbody>\n",
       "    <tr>\n",
       "      <th>0</th>\n",
       "      <td>30.0</td>\n",
       "      <td>19.0</td>\n",
       "      <td>1.0</td>\n",
       "      <td>0.0</td>\n",
       "      <td>2.0</td>\n",
       "      <td>0.0</td>\n",
       "      <td>1.0</td>\n",
       "      <td>3.0</td>\n",
       "      <td>4.0</td>\n",
       "      <td>1.0</td>\n",
       "      <td>1.0</td>\n",
       "      <td>2.0</td>\n",
       "      <td>2.0</td>\n",
       "      <td>2.0</td>\n",
       "      <td>1.0</td>\n",
       "      <td>2.0</td>\n",
       "      <td>True</td>\n",
       "      <td>2014</td>\n",
       "    </tr>\n",
       "    <tr>\n",
       "      <th>1</th>\n",
       "      <td>24.0</td>\n",
       "      <td>19.0</td>\n",
       "      <td>1.0</td>\n",
       "      <td>1.0</td>\n",
       "      <td>2.0</td>\n",
       "      <td>0.0</td>\n",
       "      <td>1.0</td>\n",
       "      <td>3.0</td>\n",
       "      <td>4.0</td>\n",
       "      <td>2.0</td>\n",
       "      <td>1.0</td>\n",
       "      <td>2.0</td>\n",
       "      <td>2.0</td>\n",
       "      <td>2.0</td>\n",
       "      <td>2.0</td>\n",
       "      <td>2.0</td>\n",
       "      <td>False</td>\n",
       "      <td>2014</td>\n",
       "    </tr>\n",
       "    <tr>\n",
       "      <th>2</th>\n",
       "      <td>5.0</td>\n",
       "      <td>2.0</td>\n",
       "      <td>5.0</td>\n",
       "      <td>4.0</td>\n",
       "      <td>2.0</td>\n",
       "      <td>2.0</td>\n",
       "      <td>1.0</td>\n",
       "      <td>3.0</td>\n",
       "      <td>0.0</td>\n",
       "      <td>2.0</td>\n",
       "      <td>1.0</td>\n",
       "      <td>2.0</td>\n",
       "      <td>2.0</td>\n",
       "      <td>2.0</td>\n",
       "      <td>2.0</td>\n",
       "      <td>2.0</td>\n",
       "      <td>False</td>\n",
       "      <td>2014</td>\n",
       "    </tr>\n",
       "    <tr>\n",
       "      <th>3</th>\n",
       "      <td>5.0</td>\n",
       "      <td>2.0</td>\n",
       "      <td>5.0</td>\n",
       "      <td>4.0</td>\n",
       "      <td>2.0</td>\n",
       "      <td>2.0</td>\n",
       "      <td>1.0</td>\n",
       "      <td>3.0</td>\n",
       "      <td>0.0</td>\n",
       "      <td>2.0</td>\n",
       "      <td>1.0</td>\n",
       "      <td>2.0</td>\n",
       "      <td>2.0</td>\n",
       "      <td>2.0</td>\n",
       "      <td>1.0</td>\n",
       "      <td>2.0</td>\n",
       "      <td>False</td>\n",
       "      <td>2014</td>\n",
       "    </tr>\n",
       "    <tr>\n",
       "      <th>4</th>\n",
       "      <td>83.0</td>\n",
       "      <td>22.0</td>\n",
       "      <td>1.0</td>\n",
       "      <td>0.0</td>\n",
       "      <td>1.0</td>\n",
       "      <td>0.0</td>\n",
       "      <td>1.0</td>\n",
       "      <td>1.0</td>\n",
       "      <td>2.0</td>\n",
       "      <td>2.0</td>\n",
       "      <td>1.0</td>\n",
       "      <td>2.0</td>\n",
       "      <td>2.0</td>\n",
       "      <td>2.0</td>\n",
       "      <td>1.0</td>\n",
       "      <td>1.0</td>\n",
       "      <td>False</td>\n",
       "      <td>2014</td>\n",
       "    </tr>\n",
       "  </tbody>\n",
       "</table>\n",
       "</div>"
      ],
      "text/plain": [
       "   AGEP  SCHL  MAR  RELP  DIS  ESP  CIT  MIG  MIL  ANC  NATIVITY  DEAR  DEYE  \\\n",
       "0  30.0  19.0  1.0   0.0  2.0  0.0  1.0  3.0  4.0  1.0       1.0   2.0   2.0   \n",
       "1  24.0  19.0  1.0   1.0  2.0  0.0  1.0  3.0  4.0  2.0       1.0   2.0   2.0   \n",
       "2   5.0   2.0  5.0   4.0  2.0  2.0  1.0  3.0  0.0  2.0       1.0   2.0   2.0   \n",
       "3   5.0   2.0  5.0   4.0  2.0  2.0  1.0  3.0  0.0  2.0       1.0   2.0   2.0   \n",
       "4  83.0  22.0  1.0   0.0  1.0  0.0  1.0  1.0  2.0  2.0       1.0   2.0   2.0   \n",
       "\n",
       "   DREM  SEX  RAC1P    ESR  year  \n",
       "0   2.0  1.0    2.0   True  2014  \n",
       "1   2.0  2.0    2.0  False  2014  \n",
       "2   2.0  2.0    2.0  False  2014  \n",
       "3   2.0  1.0    2.0  False  2014  \n",
       "4   2.0  1.0    1.0  False  2014  "
      ]
     },
     "execution_count": 5,
     "metadata": {},
     "output_type": "execute_result"
    }
   ],
   "source": [
    "years = list(range(2014, 2019))\n",
    "dfs = []\n",
    "for year in years:\n",
    "    data_source = ACSDataSource(survey_year=year, horizon='1-Year', survey='person')\n",
    "    data = data_source.get_data(states=[\"MA\"], download=True)\n",
    "    features, labels, _ = ACSEmployment.df_to_numpy(data)\n",
    "    df = pd.DataFrame(features)\n",
    "    df.columns = ACSEmployment.features\n",
    "    df[ACSEmployment.target] = labels\n",
    "    df['year'] = year\n",
    "    dfs.append(df)\n",
    "    \n",
    "\n",
    "df = pd.concat(dfs).reset_index(drop=True)\n",
    "df.head()"
   ]
  },
  {
   "cell_type": "code",
   "execution_count": 6,
   "id": "c4cd867a",
   "metadata": {},
   "outputs": [
    {
     "name": "stdout",
     "output_type": "stream",
     "text": [
      "+----+--------+--------+-------+--------+-------+-------+-------+-------+-------+-------+------------+--------+--------+--------+-------+---------+-------+--------+\n",
      "|    | AGEP   | SCHL   | MAR   | RELP   | DIS   | ESP   | CIT   | MIG   | MIL   | ANC   | NATIVITY   | DEAR   | DEYE   | DREM   | SEX   | RAC1P   | ESR   | year   |\n",
      "+====+========+========+=======+========+=======+=======+=======+=======+=======+=======+============+========+========+========+=======+=========+=======+========+\n",
      "| 0  | 30     | 19     | 1     | 0      | 2     | 0     | 1     | 3     | 4     | 1     | 1          | 2      | 2      | 2      | 1     | 2       | True  | 2014   |\n",
      "+----+--------+--------+-------+--------+-------+-------+-------+-------+-------+-------+------------+--------+--------+--------+-------+---------+-------+--------+\n",
      "| 1  | 24     | 19     | 1     | 1      | 2     | 0     | 1     | 3     | 4     | 2     | 1          | 2      | 2      | 2      | 2     | 2       | False | 2014   |\n",
      "+----+--------+--------+-------+--------+-------+-------+-------+-------+-------+-------+------------+--------+--------+--------+-------+---------+-------+--------+\n",
      "| 2  | 5      | 2      | 5     | 4      | 2     | 2     | 1     | 3     | 0     | 2     | 1          | 2      | 2      | 2      | 2     | 2       | False | 2014   |\n",
      "+----+--------+--------+-------+--------+-------+-------+-------+-------+-------+-------+------------+--------+--------+--------+-------+---------+-------+--------+\n",
      "| 3  | 5      | 2      | 5     | 4      | 2     | 2     | 1     | 3     | 0     | 2     | 1          | 2      | 2      | 2      | 1     | 2       | False | 2014   |\n",
      "+----+--------+--------+-------+--------+-------+-------+-------+-------+-------+-------+------------+--------+--------+--------+-------+---------+-------+--------+\n",
      "| 4  | 83     | 22     | 1     | 0      | 1     | 0     | 1     | 1     | 2     | 2     | 1          | 2      | 2      | 2      | 1     | 1       | False | 2014   |\n",
      "+----+--------+--------+-------+--------+-------+-------+-------+-------+-------+-------+------------+--------+--------+--------+-------+---------+-------+--------+\n"
     ]
    }
   ],
   "source": [
    "print_table(df.head())"
   ]
  },
  {
   "cell_type": "code",
   "execution_count": 7,
   "id": "87b662f2",
   "metadata": {},
   "outputs": [],
   "source": [
    "# Feature description from (PUMS data dictionary): https://www.census.gov/programs-surveys/acs/microdata/documentation.html\n",
    "# \n",
    "# AGEP - age person, numeric\n",
    "# \n",
    "# SCHL \n",
    "# Educational attainment\n",
    "# * bb .N/A (less than 3 years old)\n",
    "# * 01 .No schooling completed\n",
    "# * 02 .Nursery school, preschool\n",
    "# * 03 .Kindergarten\n",
    "# * 04 .Grade 1\n",
    "# * 05 .Grade 2\n",
    "# * 06 .Grade 3\n",
    "# * 07 .Grade 4\n",
    "# * 08 .Grade 5\n",
    "# * 09 .Grade 6\n",
    "# * 10 .Grade 7\n",
    "# * 11 .Grade 8\n",
    "# * 12 .Grade 9\n",
    "# * 13 .Grade 10\n",
    "# * 14 .Grade 11\n",
    "# * 15 .12th grade - no diploma\n",
    "# * 16 .Regular high school diploma\n",
    "# * 17 .GED or alternative credential\n",
    "# * 18 .Some college, but less than 1 year\n",
    "# * 19 .1 or more years of college credit, no degree\n",
    "# * 20 .Associate's degree\n",
    "# * 21 .Bachelor's degree\n",
    "# * 22 .Master's degree\n",
    "# * 23 .Professional degree beyond a bachelor's degree\n",
    "# * 24 .Doctorate degree\n",
    "# \n",
    "# \n",
    "# MAR Character 1\n",
    "# Marital status\n",
    "# * 1 .Married\n",
    "# * 2 .Widowed\n",
    "# * 3 .Divorced\n",
    "# * 4 .Separated\n",
    "# * 5 .Never married or under 15 years old\n",
    "# \n",
    "# RELP Character 2\n",
    "# Relationship\n",
    "# * 00 .Reference person\n",
    "# * 01 .Husband/wife\n",
    "# * 02 .Biological son or daughter\n",
    "# * 03 .Adopted son or daughter\n",
    "# * 04 .Stepson or stepdaughter\n",
    "# * 05 .Brother or sister\n",
    "# * 06 .Father or mother\n",
    "# * 07 .Grandchild\n",
    "# * 08 .Parent-in-law\n",
    "# * 09 .Son-in-law or daughter-in-law\n",
    "# * 10 .Other relative\n",
    "# * 11 .Roomer or boarder\n",
    "# * 12 .Housemate or roommate\n",
    "# * 13 .Unmarried partner\n",
    "# * 14 .Foster child\n",
    "# * 15 .Other nonrelative\n",
    "# * 16 .Institutionalized group quarters population\n",
    "# * 17 .Noninstitutionalized group quarters population\n",
    "#  \n",
    "# DIS Character 1\n",
    "# Disability recode\n",
    "# * 1 .With a disability\n",
    "# * 2 .Without a disability\n",
    "# \n",
    "# ESP Character 1\n",
    "# Employment status of parents\n",
    "# * b .N/A (not own child of householder, and not child in subfamily)\n",
    "# * 1 .Living with two parents: both parents in labor force\n",
    "# * 2 .Living with two parents: Father only in labor force\n",
    "# * 3 .Living with two parents: Mother only in labor force\n",
    "# * 4 .Living with two parents: Neither parent in labor force\n",
    "# * 5 .Living with father: Father in the labor force\n",
    "# * 6 .Living with father: Father not in labor force\n",
    "# * 7 .Living with mother: Mother in the labor force\n",
    "# * 8 .Living with mother: Mother not in labor force\n",
    "# \n",
    "# CIT Character 1\n",
    "# Citizenship status\n",
    "# * 1 .Born in the U.S.\n",
    "# * 2 .Born in Puerto Rico, Guam, the U.S. Virgin Islands, or the\n",
    "# * .Northern Marianas\n",
    "# * 3 .Born abroad of American parent(s)\n",
    "# * 4 .U.S. citizen by naturalization\n",
    "# * 5 .Not a citizen of the U.S.\n",
    "# \n",
    "# MIG Character 1\n",
    "# Mobility status (lived here 1 year ago)\n",
    "# * b .N/A (less than 1 year old)\n",
    "# * 1 .Yes, same house (nonmovers)\n",
    "# * 2 .No, outside US and Puerto Rico\n",
    "# * 3 .No, different house in US or Puerto Rico\n",
    "# \n",
    "# MIL Character 1\n",
    "# Military service\n",
    "# * b .N/A (less than 17 years old)\n",
    "# * 1 .Now on active duty\n",
    "# * 2 .On active duty in the past, but not now\n",
    "# * 3 .Only on active duty for training in Reserves/National Guard\n",
    "# * 4 .Never served in the military\n",
    "# \n",
    "# ANC Character 1\n",
    "# Ancestry recode\n",
    "# * 1 .Single\n",
    "# * 2 .Multiple\n",
    "# * 3 .Unclassified\n",
    "# * 4 .Not reported\n",
    "# * 8 .Suppressed for data year 2018 for select PUMAs\n",
    "# \n",
    "# \n",
    "# NATIVITY Character 1\n",
    "# Nativity\n",
    "# * 1 .Native\n",
    "# * 2 .Foreign born\n",
    "# \n",
    "# DEAR Character 1\n",
    "# Hearing difficulty\n",
    "# * 1 .Yes\n",
    "# * 2 .No\n",
    "# \n",
    "# DEYE Character 1\n",
    "# Vision difficulty\n",
    "# * 1 .Yes\n",
    "# * 2 .No\n",
    "# \n",
    "# DREM Character 1\n",
    "# Cognitive difficulty\n",
    "# * b .N/A (Less than 5 years old)\n",
    "# * 1 .Yes\n",
    "# * 2 .No\n",
    "# \n",
    "# SEX Character 1\n",
    "# Sex\n",
    "# * 1 .Male\n",
    "# * 2 .Female\n",
    "# \n",
    "# RAC1P Character 1\n",
    "# Recoded detailed race code\n",
    "# * 1 .White alone\n",
    "# * 2 .Black or African American alone\n",
    "# * 3 .American Indian alone\n",
    "# * 4 .Alaska Native alone\n",
    "# * 5 .American Indian and Alaska Native tribes specified; or\n",
    "# * .American Indian or Alaska Native, not specified and no other\n",
    "# * .races\n",
    "# * 6 .Asian alone\n",
    "# * 7 .Native Hawaiian and Other Pacific Islander alone\n",
    "# * 8 .Some Other Race alone\n",
    "# * 9 .Two or More Races\n",
    "# \n",
    "# ESR - target\n",
    "# * True - employed\n",
    "# * False - unemployed"
   ]
  },
  {
   "cell_type": "code",
   "execution_count": 8,
   "id": "55800efc",
   "metadata": {},
   "outputs": [],
   "source": [
    "# Preprocess"
   ]
  },
  {
   "cell_type": "code",
   "execution_count": 9,
   "id": "35aa6b43",
   "metadata": {},
   "outputs": [],
   "source": [
    "## Split partitions"
   ]
  },
  {
   "cell_type": "code",
   "execution_count": 10,
   "id": "9e8330a6",
   "metadata": {},
   "outputs": [],
   "source": [
    "df['partition'] = None\n",
    "df['partition'] = np.where(df['year']==2014, 'train', df['partition'])\n",
    "df['partition'] = np.where(df['year']==2015, 'test', df['partition'])\n",
    "df['partition'] = np.where(df['year']>2015, 'prod', df['partition'])"
   ]
  },
  {
   "cell_type": "code",
   "execution_count": 11,
   "id": "79cf47e9",
   "metadata": {},
   "outputs": [
    {
     "data": {
      "text/plain": [
       "prod     208892\n",
       "test      68785\n",
       "train     68544\n",
       "Name: partition, dtype: int64"
      ]
     },
     "execution_count": 11,
     "metadata": {},
     "output_type": "execute_result"
    }
   ],
   "source": [
    "df['partition'].value_counts()"
   ]
  },
  {
   "cell_type": "code",
   "execution_count": 12,
   "id": "80220fcf",
   "metadata": {},
   "outputs": [
    {
     "data": {
      "text/plain": [
       "AGEP         False\n",
       "SCHL         False\n",
       "MAR          False\n",
       "RELP         False\n",
       "DIS          False\n",
       "ESP          False\n",
       "CIT          False\n",
       "MIG          False\n",
       "MIL          False\n",
       "ANC          False\n",
       "NATIVITY     False\n",
       "DEAR         False\n",
       "DEYE         False\n",
       "DREM         False\n",
       "SEX          False\n",
       "RAC1P        False\n",
       "ESR          False\n",
       "year         False\n",
       "partition    False\n",
       "dtype: bool"
      ]
     },
     "execution_count": 12,
     "metadata": {},
     "output_type": "execute_result"
    }
   ],
   "source": [
    "df.isna().any()"
   ]
  },
  {
   "cell_type": "code",
   "execution_count": 13,
   "id": "888daa70",
   "metadata": {},
   "outputs": [],
   "source": [
    "df_train = df[df['partition']=='train'].copy()"
   ]
  },
  {
   "cell_type": "code",
   "execution_count": 14,
   "id": "b0c5dbf8",
   "metadata": {},
   "outputs": [],
   "source": [
    "categorical_features = ['SCHL','MAR', 'RELP', 'DIS', 'ESP', 'CIT', 'MIG', 'MIL', 'ANC', 'NATIVITY',\n",
    "                        'DEAR', 'DEYE', 'DREM', 'SEX', 'RAC1P']\n",
    "\n",
    "numeric_features = ['AGEP']"
   ]
  },
  {
   "cell_type": "code",
   "execution_count": 15,
   "id": "886fa214",
   "metadata": {},
   "outputs": [
    {
     "data": {
      "text/plain": [
       "21.0    12438\n",
       "16.0    11780\n",
       "19.0     7380\n",
       "22.0     6853\n",
       "20.0     3942\n",
       "18.0     3201\n",
       "1.0      1949\n",
       "0.0      1858\n",
       "17.0     1511\n",
       "13.0     1504\n",
       "14.0     1503\n",
       "23.0     1475\n",
       "11.0     1420\n",
       "12.0     1368\n",
       "24.0     1364\n",
       "9.0      1167\n",
       "2.0      1013\n",
       "10.0      986\n",
       "7.0       926\n",
       "8.0       900\n",
       "15.0      891\n",
       "6.0       813\n",
       "3.0       774\n",
       "4.0       764\n",
       "5.0       764\n",
       "Name: SCHL, dtype: int64"
      ]
     },
     "metadata": {},
     "output_type": "display_data"
    },
    {
     "data": {
      "text/plain": [
       "5.0    30538\n",
       "1.0    28279\n",
       "3.0     5255\n",
       "2.0     3565\n",
       "4.0      907\n",
       "Name: MAR, dtype: int64"
      ]
     },
     "metadata": {},
     "output_type": "display_data"
    },
    {
     "data": {
      "text/plain": [
       "0.0     26441\n",
       "2.0     16614\n",
       "1.0     13222\n",
       "17.0     3175\n",
       "16.0     1517\n",
       "13.0     1514\n",
       "12.0     1174\n",
       "7.0       905\n",
       "6.0       656\n",
       "10.0      649\n",
       "15.0      583\n",
       "5.0       573\n",
       "4.0       432\n",
       "3.0       395\n",
       "11.0      261\n",
       "8.0       194\n",
       "9.0       182\n",
       "14.0       57\n",
       "Name: RELP, dtype: int64"
      ]
     },
     "metadata": {},
     "output_type": "display_data"
    },
    {
     "data": {
      "text/plain": [
       "2.0    59417\n",
       "1.0     9127\n",
       "Name: DIS, dtype: int64"
      ]
     },
     "metadata": {},
     "output_type": "display_data"
    },
    {
     "data": {
      "text/plain": [
       "0.0    55887\n",
       "1.0     6636\n",
       "2.0     2223\n",
       "7.0     2218\n",
       "5.0      589\n",
       "8.0      516\n",
       "3.0      302\n",
       "4.0      114\n",
       "6.0       59\n",
       "Name: ESP, dtype: int64"
      ]
     },
     "metadata": {},
     "output_type": "display_data"
    },
    {
     "data": {
      "text/plain": [
       "1.0    57107\n",
       "4.0     5364\n",
       "5.0     4365\n",
       "2.0      999\n",
       "3.0      709\n",
       "Name: CIT, dtype: int64"
      ]
     },
     "metadata": {},
     "output_type": "display_data"
    },
    {
     "data": {
      "text/plain": [
       "1.0    58916\n",
       "3.0     8343\n",
       "2.0      670\n",
       "0.0      615\n",
       "Name: MIG, dtype: int64"
      ]
     },
     "metadata": {},
     "output_type": "display_data"
    },
    {
     "data": {
      "text/plain": [
       "4.0    51333\n",
       "0.0    12496\n",
       "2.0     3824\n",
       "3.0      844\n",
       "1.0       47\n",
       "Name: MIL, dtype: int64"
      ]
     },
     "metadata": {},
     "output_type": "display_data"
    },
    {
     "data": {
      "text/plain": [
       "1.0    36098\n",
       "2.0    23137\n",
       "4.0     8765\n",
       "3.0      544\n",
       "Name: ANC, dtype: int64"
      ]
     },
     "metadata": {},
     "output_type": "display_data"
    },
    {
     "data": {
      "text/plain": [
       "1.0    58815\n",
       "2.0     9729\n",
       "Name: NATIVITY, dtype: int64"
      ]
     },
     "metadata": {},
     "output_type": "display_data"
    },
    {
     "data": {
      "text/plain": [
       "2.0    65899\n",
       "1.0     2645\n",
       "Name: DEAR, dtype: int64"
      ]
     },
     "metadata": {},
     "output_type": "display_data"
    },
    {
     "data": {
      "text/plain": [
       "2.0    66971\n",
       "1.0     1573\n",
       "Name: DEYE, dtype: int64"
      ]
     },
     "metadata": {},
     "output_type": "display_data"
    },
    {
     "data": {
      "text/plain": [
       "2.0    61529\n",
       "1.0     3817\n",
       "0.0     3198\n",
       "Name: DREM, dtype: int64"
      ]
     },
     "metadata": {},
     "output_type": "display_data"
    },
    {
     "data": {
      "text/plain": [
       "2.0    35700\n",
       "1.0    32844\n",
       "Name: SEX, dtype: int64"
      ]
     },
     "metadata": {},
     "output_type": "display_data"
    },
    {
     "data": {
      "text/plain": [
       "1.0    56067\n",
       "2.0     4180\n",
       "6.0     4063\n",
       "8.0     2198\n",
       "9.0     1884\n",
       "3.0       92\n",
       "5.0       47\n",
       "7.0       13\n",
       "Name: RAC1P, dtype: int64"
      ]
     },
     "metadata": {},
     "output_type": "display_data"
    }
   ],
   "source": [
    "for feature in categorical_features:\n",
    "    display(df_train[feature].value_counts())"
   ]
  },
  {
   "cell_type": "code",
   "execution_count": 16,
   "id": "eed1f94c",
   "metadata": {},
   "outputs": [],
   "source": [
    "# Categorical features are already well encoded for LGBM (non-negative integers-like). Let's just turn them into integers and we're good."
   ]
  },
  {
   "cell_type": "code",
   "execution_count": 17,
   "id": "77a1d29e",
   "metadata": {},
   "outputs": [],
   "source": [
    "features = numeric_features + categorical_features\n",
    "\n",
    "target_col = 'employed'\n",
    "\n",
    "df = df.rename(columns={'ESR':target_col})\n",
    "\n",
    "df[categorical_features] = df[categorical_features].astype(int)\n",
    "df[target_col] = df[target_col].astype(int)"
   ]
  },
  {
   "cell_type": "code",
   "execution_count": 18,
   "id": "91baad8f",
   "metadata": {},
   "outputs": [],
   "source": [
    "## Train client model and get predictions"
   ]
  },
  {
   "cell_type": "code",
   "execution_count": 19,
   "id": "a22c2463",
   "metadata": {},
   "outputs": [],
   "source": [
    "client_model = LGBMClassifier(random_state=1)"
   ]
  },
  {
   "cell_type": "code",
   "execution_count": 20,
   "id": "87e04fcc",
   "metadata": {},
   "outputs": [
    {
     "name": "stderr",
     "output_type": "stream",
     "text": [
      "/home/jakub/.cache/pypoetry/virtualenvs/nannyml-eXIrL8V0-py3.9/lib/python3.9/site-packages/lightgbm/basic.py:2065: UserWarning: Using categorical_feature in Dataset.\n",
      "  _log_warning('Using categorical_feature in Dataset.')\n"
     ]
    }
   ],
   "source": [
    "client_model.fit(df[df['partition']=='train'][features], df[df['partition']=='train'][target_col],\n",
    "                 categorical_feature=categorical_features)\n",
    "\n",
    "df['prediction'] = client_model.predict(df[features])\n",
    "df['predicted_probability'] = client_model.predict_proba(df[features])[:,1]"
   ]
  },
  {
   "cell_type": "code",
   "execution_count": 21,
   "id": "94005ae7",
   "metadata": {},
   "outputs": [
    {
     "data": {
      "text/plain": [
       "array([1129,  394,  126,  285,  106,   13,   86,  145,   50,  180,   54,\n",
       "         51,   34,   67,  203,   77], dtype=int32)"
      ]
     },
     "execution_count": 21,
     "metadata": {},
     "output_type": "execute_result"
    }
   ],
   "source": [
    "client_model.feature_importances_"
   ]
  },
  {
   "cell_type": "code",
   "execution_count": 22,
   "id": "d9313a5c",
   "metadata": {},
   "outputs": [],
   "source": [
    "# Save reference and production data"
   ]
  },
  {
   "cell_type": "code",
   "execution_count": 23,
   "id": "6d510637",
   "metadata": {},
   "outputs": [],
   "source": [
    "for feat in categorical_features:\n",
    "    df[feat] = df[feat].astype(str).astype('category')"
   ]
  },
  {
   "cell_type": "code",
   "execution_count": 24,
   "id": "8054f57e",
   "metadata": {},
   "outputs": [
    {
     "data": {
      "text/plain": [
       "AGEP                      float64\n",
       "SCHL                     category\n",
       "MAR                      category\n",
       "RELP                     category\n",
       "DIS                      category\n",
       "ESP                      category\n",
       "CIT                      category\n",
       "MIG                      category\n",
       "MIL                      category\n",
       "ANC                      category\n",
       "NATIVITY                 category\n",
       "DEAR                     category\n",
       "DEYE                     category\n",
       "DREM                     category\n",
       "SEX                      category\n",
       "RAC1P                    category\n",
       "employed                    int64\n",
       "year                        int64\n",
       "partition                  object\n",
       "prediction                  int64\n",
       "predicted_probability     float64\n",
       "dtype: object"
      ]
     },
     "execution_count": 24,
     "metadata": {},
     "output_type": "execute_result"
    }
   ],
   "source": [
    "df.dtypes"
   ]
  },
  {
   "cell_type": "code",
   "execution_count": 25,
   "id": "389194b8",
   "metadata": {},
   "outputs": [],
   "source": [
    "full_reference_data = df[df['partition']=='test'].reset_index(drop=True).drop(columns='partition')\n",
    "analysis_wo_targets = df[df['partition']=='prod'].reset_index(drop=True).drop(columns=[target_col, 'partition'])\n",
    "analysis_targets = df[df['partition']=='prod'][[target_col]].reset_index(drop=True)"
   ]
  },
  {
   "cell_type": "code",
   "execution_count": 26,
   "id": "7744e8d2",
   "metadata": {},
   "outputs": [],
   "source": [
    "data_dir = '../../../nannyml/nannyml/datasets/data/'\n",
    "\n",
    "full_reference_data.to_parquet(data_dir + \"employment_MA_reference.pq\")\n",
    "analysis_wo_targets.to_parquet(data_dir + \"employment_MA_analysis.pq\")\n",
    "analysis_targets.to_parquet(data_dir + \"employment_MA_analysis_target.pq\", )"
   ]
  },
  {
   "cell_type": "code",
   "execution_count": null,
   "id": "1af417fb",
   "metadata": {},
   "outputs": [],
   "source": []
  }
 ],
 "metadata": {
  "kernelspec": {
   "display_name": "Python 3 (ipykernel)",
   "language": "python",
   "name": "python3"
  },
  "language_info": {
   "codemirror_mode": {
    "name": "ipython",
    "version": 3
   },
   "file_extension": ".py",
   "mimetype": "text/x-python",
   "name": "python",
   "nbconvert_exporter": "python",
   "pygments_lexer": "ipython3",
   "version": "3.9.7"
  }
 },
 "nbformat": 4,
 "nbformat_minor": 5
}
