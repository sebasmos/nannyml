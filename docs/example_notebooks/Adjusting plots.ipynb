{
 "cells": [
  {
   "cell_type": "code",
   "execution_count": null,
   "id": "ff3d5127",
   "metadata": {},
   "outputs": [],
   "source": [
    "import nannyml as nml\n",
    "reference, analysis, analysis_target = nml.load_synthetic_binary_classification_dataset()\n",
    "estimator = nml.CBPE(\n",
    "    y_pred_proba='y_pred_proba',\n",
    "    y_pred='y_pred',\n",
    "    y_true='work_home_actual',\n",
    "    timestamp_column_name='timestamp',\n",
    "    metrics=['roc_auc'],\n",
    "    chunk_size=5000,\n",
    "    problem_type='classification_binary',\n",
    ").fit(reference)\n",
    "estimated_performance = estimator.estimate(analysis)\n",
    "figure = estimated_performance.plot(kind='performance')\n",
    "\n",
    "# indicate period of interest\n",
    "import datetime as dt\n",
    "figure.add_vrect(x0=dt.datetime(2019,1,1), x1=dt.datetime(2020, 1,1),\n",
    "                 annotation_text=\"Strategy change\", annotation_position=\"top left\")\n",
    "figure.show()"
   ]
  },
  {
   "cell_type": "code",
   "execution_count": null,
   "id": "51c744de",
   "metadata": {},
   "outputs": [],
   "source": [
    "figure.write_image(file=f\"../_static/adjusting_plots_time_periods_indication.svg\")"
   ]
  },
  {
   "cell_type": "code",
   "execution_count": null,
   "id": "48e60a11",
   "metadata": {},
   "outputs": [],
   "source": []
  }
 ],
 "metadata": {
  "kernelspec": {
   "display_name": "p39all",
   "language": "python",
   "name": "p39all"
  },
  "language_info": {
   "codemirror_mode": {
    "name": "ipython",
    "version": 3
   },
   "file_extension": ".py",
   "mimetype": "text/x-python",
   "name": "python",
   "nbconvert_exporter": "python",
   "pygments_lexer": "ipython3",
   "version": "3.8.8"
  }
 },
 "nbformat": 4,
 "nbformat_minor": 5
}
