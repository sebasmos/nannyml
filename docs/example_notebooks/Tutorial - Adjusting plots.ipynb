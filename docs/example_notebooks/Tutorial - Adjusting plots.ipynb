{
 "cells": [
  {
   "cell_type": "code",
   "execution_count": null,
   "id": "7ef9d216",
   "metadata": {},
   "outputs": [],
   "source": [
    "import nannyml as nml\n",
    "reference, analysis, analysis_target = nml.load_synthetic_car_loan_dataset()\n",
    "\n",
    "estimator = nml.CBPE(\n",
    "    y_pred_proba='y_pred_proba',\n",
    "    y_pred='y_pred',\n",
    "    y_true='repaid',\n",
    "    timestamp_column_name='timestamp',\n",
    "    metrics=['roc_auc'],\n",
    "    chunk_size=5000,\n",
    "    problem_type='classification_binary',\n",
    ").fit(reference)\n",
    "\n",
    "estimated_performance = estimator.estimate(analysis)\n",
    "figure = estimated_performance.plot(kind='performance')\n",
    "\n",
    "# indicate period of interest\n",
    "import datetime as dt\n",
    "\n",
    "# add additional indicator for a particular period\n",
    "figure.add_vrect(\n",
    "    x0=dt.datetime(2019,2,28),\n",
    "    x1=dt.datetime(2019,4,30),\n",
    "    annotation_text=\"Strategy change\",\n",
    "    annotation_y=0.8,\n",
    "    annotation_position=\"outside right\"\n",
    ")\n",
    "\n",
    "figure.show()"
   ]
  },
  {
   "cell_type": "code",
   "execution_count": null,
   "id": "a763a4a7",
   "metadata": {},
   "outputs": [],
   "source": [
    "figure.write_image(file=f\"../_static/tutorials/adjust_plots/adjusting_plots_time_periods_indication.svg\")"
   ]
  }
 ],
 "metadata": {
  "kernelspec": {
   "display_name": "Python 3 (ipykernel)",
   "language": "python",
   "name": "python3"
  },
  "language_info": {
   "codemirror_mode": {
    "name": "ipython",
    "version": 3
   },
   "file_extension": ".py",
   "mimetype": "text/x-python",
   "name": "python",
   "nbconvert_exporter": "python",
   "pygments_lexer": "ipython3",
   "version": "3.8.8"
  }
 },
 "nbformat": 4,
 "nbformat_minor": 5
}
