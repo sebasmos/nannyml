{
 "cells": [
  {
   "cell_type": "code",
   "execution_count": null,
   "metadata": {},
   "outputs": [
    {
     "data": {
      "text/html": [
       "<div>\n",
       "<style scoped>\n",
       "    .dataframe tbody tr th:only-of-type {\n",
       "        vertical-align: middle;\n",
       "    }\n",
       "\n",
       "    .dataframe tbody tr th {\n",
       "        vertical-align: top;\n",
       "    }\n",
       "\n",
       "    .dataframe thead th {\n",
       "        text-align: right;\n",
       "    }\n",
       "</style>\n",
       "<table border=\"1\" class=\"dataframe\">\n",
       "  <thead>\n",
       "    <tr style=\"text-align: right;\">\n",
       "      <th></th>\n",
       "      <th>repaid</th>\n",
       "    </tr>\n",
       "  </thead>\n",
       "  <tbody>\n",
       "    <tr>\n",
       "      <th>0</th>\n",
       "      <td>True</td>\n",
       "    </tr>\n",
       "    <tr>\n",
       "      <th>1</th>\n",
       "      <td>True</td>\n",
       "    </tr>\n",
       "    <tr>\n",
       "      <th>2</th>\n",
       "      <td>True</td>\n",
       "    </tr>\n",
       "  </tbody>\n",
       "</table>\n",
       "</div>"
      ],
      "text/plain": [
       "   repaid\n",
       "0    True\n",
       "1    True\n",
       "2    True"
      ]
     },
     "execution_count": 1,
     "metadata": {},
     "output_type": "execute_result"
    }
   ],
   "source": [
    "import pandas as pd\n",
    "import nannyml as nml\n",
    "from IPython.display import display\n",
    "from sklearn.metrics import roc_auc_score\n",
    "import matplotlib.pyplot as plt\n",
    "\n",
    "reference_df, analysis_df, analysis_target_df = nml.load_synthetic_car_loan_dataset()\n",
    "\n",
    "analysis_target_df.head(3)"
   ]
  },
  {
   "cell_type": "code",
   "execution_count": null,
   "metadata": {},
   "outputs": [
    {
     "name": "stdout",
     "output_type": "stream",
     "text": [
      "+----+----------+\n",
      "|    |   repaid |\n",
      "+====+==========+\n",
      "|  0 |        1 |\n",
      "+----+----------+\n",
      "|  1 |        1 |\n",
      "+----+----------+\n",
      "|  2 |        1 |\n",
      "+----+----------+\n"
     ]
    }
   ],
   "source": [
    "print(analysis_target_df.head(3).to_markdown(tablefmt=\"grid\"))"
   ]
  },
  {
   "cell_type": "code",
   "execution_count": null,
   "metadata": {},
   "outputs": [
    {
     "data": {
      "text/html": [
       "<div>\n",
       "<style scoped>\n",
       "    .dataframe tbody tr th:only-of-type {\n",
       "        vertical-align: middle;\n",
       "    }\n",
       "\n",
       "    .dataframe tbody tr th {\n",
       "        vertical-align: top;\n",
       "    }\n",
       "\n",
       "    .dataframe thead th {\n",
       "        text-align: right;\n",
       "    }\n",
       "</style>\n",
       "<table border=\"1\" class=\"dataframe\">\n",
       "  <thead>\n",
       "    <tr style=\"text-align: right;\">\n",
       "      <th></th>\n",
       "      <th>car_value</th>\n",
       "      <th>salary_range</th>\n",
       "      <th>debt_to_income_ratio</th>\n",
       "      <th>loan_length</th>\n",
       "      <th>repaid_loan_on_prev_car</th>\n",
       "      <th>size_of_downpayment</th>\n",
       "      <th>driver_tenure</th>\n",
       "      <th>timestamp</th>\n",
       "      <th>y_pred_proba</th>\n",
       "      <th>y_pred</th>\n",
       "      <th>repaid</th>\n",
       "    </tr>\n",
       "  </thead>\n",
       "  <tbody>\n",
       "    <tr>\n",
       "      <th>0</th>\n",
       "      <td>12638.0</td>\n",
       "      <td>0 - 20K €</td>\n",
       "      <td>0.487926</td>\n",
       "      <td>21.0</td>\n",
       "      <td>False</td>\n",
       "      <td>10%</td>\n",
       "      <td>4.224628</td>\n",
       "      <td>2018-10-30 18:00:00.000</td>\n",
       "      <td>0.99</td>\n",
       "      <td>True</td>\n",
       "      <td>True</td>\n",
       "    </tr>\n",
       "    <tr>\n",
       "      <th>1</th>\n",
       "      <td>52425.0</td>\n",
       "      <td>20K - 20K €</td>\n",
       "      <td>0.672183</td>\n",
       "      <td>20.0</td>\n",
       "      <td>False</td>\n",
       "      <td>40%</td>\n",
       "      <td>4.963103</td>\n",
       "      <td>2018-10-30 18:08:43.152</td>\n",
       "      <td>0.98</td>\n",
       "      <td>True</td>\n",
       "      <td>True</td>\n",
       "    </tr>\n",
       "    <tr>\n",
       "      <th>2</th>\n",
       "      <td>20369.0</td>\n",
       "      <td>40K - 60K €</td>\n",
       "      <td>0.703090</td>\n",
       "      <td>19.0</td>\n",
       "      <td>True</td>\n",
       "      <td>40%</td>\n",
       "      <td>4.588951</td>\n",
       "      <td>2018-10-30 18:17:26.304</td>\n",
       "      <td>0.98</td>\n",
       "      <td>True</td>\n",
       "      <td>True</td>\n",
       "    </tr>\n",
       "  </tbody>\n",
       "</table>\n",
       "</div>"
      ],
      "text/plain": [
       "   car_value salary_range  debt_to_income_ratio  loan_length  \\\n",
       "0    12638.0    0 - 20K €              0.487926         21.0   \n",
       "1    52425.0  20K - 20K €              0.672183         20.0   \n",
       "2    20369.0  40K - 60K €              0.703090         19.0   \n",
       "\n",
       "   repaid_loan_on_prev_car size_of_downpayment  driver_tenure  \\\n",
       "0                    False                 10%       4.224628   \n",
       "1                    False                 40%       4.963103   \n",
       "2                     True                 40%       4.588951   \n",
       "\n",
       "                 timestamp  y_pred_proba  y_pred  repaid  \n",
       "0  2018-10-30 18:00:00.000          0.99    True    True  \n",
       "1  2018-10-30 18:08:43.152          0.98    True    True  \n",
       "2  2018-10-30 18:17:26.304          0.98    True    True  "
      ]
     },
     "metadata": {},
     "output_type": "display_data"
    }
   ],
   "source": [
    "analysis_with_targets = analysis_df.merge(analysis_target_df, left_index=True, right_index=True)\n",
    "\n",
    "display(analysis_with_targets.head(3))"
   ]
  },
  {
   "cell_type": "code",
   "execution_count": null,
   "metadata": {},
   "outputs": [
    {
     "name": "stdout",
     "output_type": "stream",
     "text": [
      "+----+-------------+----------------+------------------------+---------------+---------------------------+-----------------------+-----------------+-------------------------+----------------+----------+----------+\n",
      "|    |   car_value | salary_range   |   debt_to_income_ratio |   loan_length | repaid_loan_on_prev_car   | size_of_downpayment   |   driver_tenure | timestamp               |   y_pred_proba | y_pred   | repaid   |\n",
      "+====+=============+================+========================+===============+===========================+=======================+=================+=========================+================+==========+==========+\n",
      "|  0 |       12638 | 0 - 20K €      |               0.487926 |            21 | False                     | 10%                   |         4.22463 | 2018-10-30 18:00:00.000 |           0.99 | True     | True     |\n",
      "+----+-------------+----------------+------------------------+---------------+---------------------------+-----------------------+-----------------+-------------------------+----------------+----------+----------+\n",
      "|  1 |       52425 | 20K - 20K €    |               0.672183 |            20 | False                     | 40%                   |         4.9631  | 2018-10-30 18:08:43.152 |           0.98 | True     | True     |\n",
      "+----+-------------+----------------+------------------------+---------------+---------------------------+-----------------------+-----------------+-------------------------+----------------+----------+----------+\n",
      "|  2 |       20369 | 40K - 60K €    |               0.70309  |            19 | True                      | 40%                   |         4.58895 | 2018-10-30 18:17:26.304 |           0.98 | True     | True     |\n",
      "+----+-------------+----------------+------------------------+---------------+---------------------------+-----------------------+-----------------+-------------------------+----------------+----------+----------+\n"
     ]
    }
   ],
   "source": [
    "print(analysis_with_targets.head(3).to_markdown(tablefmt=\"grid\"))"
   ]
  },
  {
   "cell_type": "code",
   "execution_count": null,
   "metadata": {},
   "outputs": [],
   "source": [
    "estimator = nml.CBPE(\n",
    "    y_pred_proba='y_pred_proba',\n",
    "    y_pred='y_pred',\n",
    "    y_true='repaid',\n",
    "    timestamp_column_name='timestamp',\n",
    "    metrics=['roc_auc'],\n",
    "    chunk_size=5000,\n",
    "    problem_type='classification_binary',\n",
    ")\n"
   ]
  },
  {
   "cell_type": "code",
   "execution_count": null,
   "metadata": {},
   "outputs": [],
   "source": [
    "estimator.fit(reference_df)\n",
    "\n",
    "results = estimator.estimate(analysis_df)\n",
    "\n",
    "results_df = results.filter(period='analysis').to_df()"
   ]
  },
  {
   "cell_type": "code",
   "execution_count": null,
   "metadata": {},
   "outputs": [
    {
     "name": "stdout",
     "output_type": "stream",
     "text": [
      "+----+--------------------+----------------------------+----------------------------+--------------------------+---------------------------+----------------------------+-----------------------+------------------------+---------------------------------+---------------------------+--------------------------------------------+--------------------------------------------+----------------------------------+----------------------------------+------------------------+\n",
      "|    | ('chunk', 'key')   |   ('chunk', 'chunk_index') |   ('chunk', 'start_index') |   ('chunk', 'end_index') | ('chunk', 'start_date')   | ('chunk', 'end_date')      | ('chunk', 'period')   |   ('roc_auc', 'value') |   ('roc_auc', 'sampling_error') |   ('roc_auc', 'realized') |   ('roc_auc', 'upper_confidence_boundary') |   ('roc_auc', 'lower_confidence_boundary') |   ('roc_auc', 'upper_threshold') |   ('roc_auc', 'lower_threshold') | ('roc_auc', 'alert')   |\n",
      "+====+====================+============================+============================+==========================+===========================+============================+=======================+========================+=================================+===========================+============================================+============================================+==================================+==================================+========================+\n",
      "|  0 | [0:4999]           |                          0 |                          0 |                     4999 | 2018-10-30 18:00:00       | 2018-11-30 00:27:16.848000 | analysis              |               0.968631 |                      0.00181072 |                       nan |                                   0.974063 |                                   0.963198 |                          0.97866 |                         0.963317 | False                  |\n",
      "+----+--------------------+----------------------------+----------------------------+--------------------------+---------------------------+----------------------------+-----------------------+------------------------+---------------------------------+---------------------------+--------------------------------------------+--------------------------------------------+----------------------------------+----------------------------------+------------------------+\n",
      "|  1 | [5000:9999]        |                          1 |                       5000 |                     9999 | 2018-11-30 00:36:00       | 2018-12-30 07:03:16.848000 | analysis              |               0.969044 |                      0.00181072 |                       nan |                                   0.974476 |                                   0.963612 |                          0.97866 |                         0.963317 | False                  |\n",
      "+----+--------------------+----------------------------+----------------------------+--------------------------+---------------------------+----------------------------+-----------------------+------------------------+---------------------------------+---------------------------+--------------------------------------------+--------------------------------------------+----------------------------------+----------------------------------+------------------------+\n",
      "|  2 | [10000:14999]      |                          2 |                      10000 |                    14999 | 2018-12-30 07:12:00       | 2019-01-29 13:39:16.848000 | analysis              |               0.969444 |                      0.00181072 |                       nan |                                   0.974876 |                                   0.964012 |                          0.97866 |                         0.963317 | False                  |\n",
      "+----+--------------------+----------------------------+----------------------------+--------------------------+---------------------------+----------------------------+-----------------------+------------------------+---------------------------------+---------------------------+--------------------------------------------+--------------------------------------------+----------------------------------+----------------------------------+------------------------+\n"
     ]
    }
   ],
   "source": [
    "print(results_df.head(3).to_markdown(tablefmt=\"grid\"))"
   ]
  },
  {
   "cell_type": "code",
   "execution_count": null,
   "metadata": {},
   "outputs": [
    {
     "data": {
      "text/html": [
       "<div>\n",
       "<style scoped>\n",
       "    .dataframe tbody tr th:only-of-type {\n",
       "        vertical-align: middle;\n",
       "    }\n",
       "\n",
       "    .dataframe tbody tr th {\n",
       "        vertical-align: top;\n",
       "    }\n",
       "\n",
       "    .dataframe thead tr th {\n",
       "        text-align: left;\n",
       "    }\n",
       "</style>\n",
       "<table border=\"1\" class=\"dataframe\">\n",
       "  <thead>\n",
       "    <tr>\n",
       "      <th></th>\n",
       "      <th colspan=\"2\" halign=\"left\">chunk</th>\n",
       "      <th>roc_auc</th>\n",
       "    </tr>\n",
       "    <tr>\n",
       "      <th></th>\n",
       "      <th>key</th>\n",
       "      <th>chunk_index</th>\n",
       "      <th>actual</th>\n",
       "    </tr>\n",
       "  </thead>\n",
       "  <tbody>\n",
       "    <tr>\n",
       "      <th>0</th>\n",
       "      <td>[0:4999]</td>\n",
       "      <td>0</td>\n",
       "      <td>0.970962</td>\n",
       "    </tr>\n",
       "    <tr>\n",
       "      <th>1</th>\n",
       "      <td>[5000:9999]</td>\n",
       "      <td>1</td>\n",
       "      <td>0.970248</td>\n",
       "    </tr>\n",
       "    <tr>\n",
       "      <th>2</th>\n",
       "      <td>[10000:14999]</td>\n",
       "      <td>2</td>\n",
       "      <td>0.976282</td>\n",
       "    </tr>\n",
       "  </tbody>\n",
       "</table>\n",
       "</div>"
      ],
      "text/plain": [
       "           chunk               roc_auc\n",
       "             key chunk_index    actual\n",
       "0       [0:4999]           0  0.970962\n",
       "1    [5000:9999]           1  0.970248\n",
       "2  [10000:14999]           2  0.976282"
      ]
     },
     "execution_count": 8,
     "metadata": {},
     "output_type": "execute_result"
    }
   ],
   "source": [
    "target_col = 'repaid'\n",
    "pred_score_col = 'y_pred_proba'\n",
    "actual_performance = []\n",
    "\n",
    "for idx in results_df.index:\n",
    "    start_index, end_index = results_df.loc[idx, ('chunk', 'start_index')], results_df.loc[idx, ('chunk', 'end_index')]\n",
    "    sub = analysis_with_targets.loc[start_index:end_index]\n",
    "    actual_perf = roc_auc_score(sub[target_col], sub[pred_score_col])\n",
    "    results_df.loc[idx, ('roc_auc', 'actual')] = actual_perf\n",
    "\n",
    "results_df.head(3).iloc[:3, [0, 1,-1]]"
   ]
  },
  {
   "cell_type": "code",
   "execution_count": null,
   "metadata": {},
   "outputs": [
    {
     "name": "stdout",
     "output_type": "stream",
     "text": [
      "+----+--------------------+----------------------------+-------------------------+\n",
      "|    | ('chunk', 'key')   |   ('chunk', 'chunk_index') |   ('roc_auc', 'actual') |\n",
      "+====+====================+============================+=========================+\n",
      "|  0 | [0:4999]           |                          0 |                0.970962 |\n",
      "+----+--------------------+----------------------------+-------------------------+\n",
      "|  1 | [5000:9999]        |                          1 |                0.970248 |\n",
      "+----+--------------------+----------------------------+-------------------------+\n",
      "|  2 | [10000:14999]      |                          2 |                0.976282 |\n",
      "+----+--------------------+----------------------------+-------------------------+\n"
     ]
    }
   ],
   "source": [
    "print(results_df.head(3).iloc[:3, [0, 1,-1]].to_markdown(tablefmt=\"grid\"))"
   ]
  },
  {
   "cell_type": "code",
   "execution_count": null,
   "metadata": {},
   "outputs": [
    {
     "data": {
      "image/png": "[encoded data removed]",
      "text/plain": [
       "<Figure size 640x480 with 1 Axes>"
      ]
     },
     "metadata": {},
     "output_type": "display_data"
    }
   ],
   "source": [
    "plot = results_df.loc[:, [('roc_auc', 'value'), ('roc_auc', 'actual'), ('chunk', 'start_date')]].plot(\n",
    "    y=[('roc_auc', 'value'), ('roc_auc', 'actual')],\n",
    "    x=('chunk', 'start_date'),\n",
    "    xlabel='Start Date',\n",
    "    ylabel='ROC AUC'\n",
    ")\n",
    "plot.legend(['Estimated ROC AUC','Actual ROC AUC'],loc='upper left')\n",
    "\n",
    "plt.show()"
   ]
  },
  {
   "cell_type": "code",
   "execution_count": null,
   "metadata": {},
   "outputs": [],
   "source": [
    "figure = plot.get_figure()\n",
    "figure.savefig(f'../_static/tutorials/estimated_and_realized_performance/tutorial-binary-car-loan-roc-auc-estimated-and-actual.svg',  bbox_inches = 'tight')\n"
   ]
  }
 ],
 "metadata": {
  "kernelspec": {
   "display_name": "Python 3",
   "language": "python",
   "name": "python3"
  },
  "language_info": {
   "codemirror_mode": {
    "name": "ipython",
    "version": 3
   },
   "file_extension": ".py",
   "mimetype": "text/x-python",
   "name": "python",
   "nbconvert_exporter": "python",
   "pygments_lexer": "ipython3",
   "version": "3.8.8"
  }
 },
 "nbformat": 4,
 "nbformat_minor": 0
}
