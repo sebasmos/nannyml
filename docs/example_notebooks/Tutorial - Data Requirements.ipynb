{
 "cells": [
  {
   "cell_type": "code",
   "execution_count": null,
   "metadata": {},
   "outputs": [
    {
     "data": {
      "text/html": [
       "<div>\n",
       "<style scoped>\n",
       "    .dataframe tbody tr th:only-of-type {\n",
       "        vertical-align: middle;\n",
       "    }\n",
       "\n",
       "    .dataframe tbody tr th {\n",
       "        vertical-align: top;\n",
       "    }\n",
       "\n",
       "    .dataframe thead th {\n",
       "        text-align: right;\n",
       "    }\n",
       "</style>\n",
       "<table border=\"1\" class=\"dataframe\">\n",
       "  <thead>\n",
       "    <tr style=\"text-align: right;\">\n",
       "      <th></th>\n",
       "      <th>timestamp</th>\n",
       "      <th>y_pred_proba</th>\n",
       "      <th>y_pred</th>\n",
       "      <th>repaid</th>\n",
       "    </tr>\n",
       "  </thead>\n",
       "  <tbody>\n",
       "    <tr>\n",
       "      <th>0</th>\n",
       "      <td>2018-01-01 00:00:00.000</td>\n",
       "      <td>0.99</td>\n",
       "      <td>1</td>\n",
       "      <td>1.0</td>\n",
       "    </tr>\n",
       "    <tr>\n",
       "      <th>1</th>\n",
       "      <td>2018-01-01 00:08:43.152</td>\n",
       "      <td>0.07</td>\n",
       "      <td>0</td>\n",
       "      <td>0.0</td>\n",
       "    </tr>\n",
       "    <tr>\n",
       "      <th>2</th>\n",
       "      <td>2018-01-01 00:17:26.304</td>\n",
       "      <td>1.00</td>\n",
       "      <td>1</td>\n",
       "      <td>1.0</td>\n",
       "    </tr>\n",
       "    <tr>\n",
       "      <th>3</th>\n",
       "      <td>2018-01-01 00:26:09.456</td>\n",
       "      <td>0.98</td>\n",
       "      <td>1</td>\n",
       "      <td>1.0</td>\n",
       "    </tr>\n",
       "    <tr>\n",
       "      <th>4</th>\n",
       "      <td>2018-01-01 00:34:52.608</td>\n",
       "      <td>0.99</td>\n",
       "      <td>1</td>\n",
       "      <td>1.0</td>\n",
       "    </tr>\n",
       "  </tbody>\n",
       "</table>\n",
       "</div>"
      ],
      "text/plain": [
       "                 timestamp  y_pred_proba  y_pred  repaid\n",
       "0  2018-01-01 00:00:00.000          0.99       1     1.0\n",
       "1  2018-01-01 00:08:43.152          0.07       0     0.0\n",
       "2  2018-01-01 00:17:26.304          1.00       1     1.0\n",
       "3  2018-01-01 00:26:09.456          0.98       1     1.0\n",
       "4  2018-01-01 00:34:52.608          0.99       1     1.0"
      ]
     },
     "execution_count": 1,
     "metadata": {},
     "output_type": "execute_result"
    }
   ],
   "source": [
    "import nannyml as nml\n",
    "reference, analysis, _ = nml.load_synthetic_car_loan_dataset()\n",
    "reference[['timestamp', 'y_pred_proba', 'y_pred', 'repaid']].head()"
   ]
  },
  {
   "cell_type": "code",
   "execution_count": null,
   "metadata": {},
   "outputs": [
    {
     "name": "stdout",
     "output_type": "stream",
     "text": [
      "+----+-------------------------+----------------+----------+----------+\n",
      "|    | timestamp               |   y_pred_proba |   y_pred |   repaid |\n",
      "+====+=========================+================+==========+==========+\n",
      "|  0 | 2018-01-01 00:00:00.000 |           0.99 |        1 |        1 |\n",
      "+----+-------------------------+----------------+----------+----------+\n",
      "|  1 | 2018-01-01 00:08:43.152 |           0.07 |        0 |        0 |\n",
      "+----+-------------------------+----------------+----------+----------+\n",
      "|  2 | 2018-01-01 00:17:26.304 |           1    |        1 |        1 |\n",
      "+----+-------------------------+----------------+----------+----------+\n",
      "|  3 | 2018-01-01 00:26:09.456 |           0.98 |        1 |        1 |\n",
      "+----+-------------------------+----------------+----------+----------+\n",
      "|  4 | 2018-01-01 00:34:52.608 |           0.99 |        1 |        1 |\n",
      "+----+-------------------------+----------------+----------+----------+\n"
     ]
    }
   ],
   "source": [
    "print(reference[['timestamp', 'y_pred_proba', 'y_pred', 'repaid']].head().to_markdown(tablefmt=\"grid\"))\n"
   ]
  },
  {
   "cell_type": "code",
   "execution_count": null,
   "metadata": {},
   "outputs": [
    {
     "data": {
      "text/html": [
       "<div>\n",
       "<style scoped>\n",
       "    .dataframe tbody tr th:only-of-type {\n",
       "        vertical-align: middle;\n",
       "    }\n",
       "\n",
       "    .dataframe tbody tr th {\n",
       "        vertical-align: top;\n",
       "    }\n",
       "\n",
       "    .dataframe thead th {\n",
       "        text-align: right;\n",
       "    }\n",
       "</style>\n",
       "<table border=\"1\" class=\"dataframe\">\n",
       "  <thead>\n",
       "    <tr style=\"text-align: right;\">\n",
       "      <th></th>\n",
       "      <th>car_value</th>\n",
       "      <th>salary_range</th>\n",
       "      <th>debt_to_income_ratio</th>\n",
       "      <th>loan_length</th>\n",
       "      <th>repaid_loan_on_prev_car</th>\n",
       "      <th>size_of_downpayment</th>\n",
       "      <th>driver_tenure</th>\n",
       "    </tr>\n",
       "  </thead>\n",
       "  <tbody>\n",
       "    <tr>\n",
       "      <th>0</th>\n",
       "      <td>39811.0</td>\n",
       "      <td>40K - 60K €</td>\n",
       "      <td>0.632950</td>\n",
       "      <td>19.0</td>\n",
       "      <td>False</td>\n",
       "      <td>40%</td>\n",
       "      <td>0.212653</td>\n",
       "    </tr>\n",
       "    <tr>\n",
       "      <th>1</th>\n",
       "      <td>12679.0</td>\n",
       "      <td>40K - 60K €</td>\n",
       "      <td>0.718627</td>\n",
       "      <td>7.0</td>\n",
       "      <td>True</td>\n",
       "      <td>10%</td>\n",
       "      <td>4.927549</td>\n",
       "    </tr>\n",
       "    <tr>\n",
       "      <th>2</th>\n",
       "      <td>19847.0</td>\n",
       "      <td>40K - 60K €</td>\n",
       "      <td>0.721724</td>\n",
       "      <td>17.0</td>\n",
       "      <td>False</td>\n",
       "      <td>0%</td>\n",
       "      <td>0.520817</td>\n",
       "    </tr>\n",
       "    <tr>\n",
       "      <th>3</th>\n",
       "      <td>22652.0</td>\n",
       "      <td>20K - 20K €</td>\n",
       "      <td>0.705992</td>\n",
       "      <td>16.0</td>\n",
       "      <td>False</td>\n",
       "      <td>10%</td>\n",
       "      <td>0.453649</td>\n",
       "    </tr>\n",
       "    <tr>\n",
       "      <th>4</th>\n",
       "      <td>21268.0</td>\n",
       "      <td>60K+ €</td>\n",
       "      <td>0.671888</td>\n",
       "      <td>21.0</td>\n",
       "      <td>True</td>\n",
       "      <td>30%</td>\n",
       "      <td>5.695263</td>\n",
       "    </tr>\n",
       "  </tbody>\n",
       "</table>\n",
       "</div>"
      ],
      "text/plain": [
       "   car_value salary_range  debt_to_income_ratio  loan_length  \\\n",
       "0    39811.0  40K - 60K €              0.632950         19.0   \n",
       "1    12679.0  40K - 60K €              0.718627          7.0   \n",
       "2    19847.0  40K - 60K €              0.721724         17.0   \n",
       "3    22652.0  20K - 20K €              0.705992         16.0   \n",
       "4    21268.0       60K+ €              0.671888         21.0   \n",
       "\n",
       "   repaid_loan_on_prev_car size_of_downpayment  driver_tenure  \n",
       "0                    False                 40%       0.212653  \n",
       "1                     True                 10%       4.927549  \n",
       "2                    False                  0%       0.520817  \n",
       "3                    False                 10%       0.453649  \n",
       "4                     True                 30%       5.695263  "
      ]
     },
     "execution_count": 3,
     "metadata": {},
     "output_type": "execute_result"
    }
   ],
   "source": [
    "reference[[\n",
    "    'car_value', 'salary_range', 'debt_to_income_ratio', 'loan_length', 'repaid_loan_on_prev_car', 'size_of_downpayment', 'driver_tenure'\n",
    "]].head()"
   ]
  },
  {
   "cell_type": "code",
   "execution_count": null,
   "metadata": {},
   "outputs": [
    {
     "name": "stdout",
     "output_type": "stream",
     "text": [
      "+----+-------------+----------------+------------------------+---------------+---------------------------+-----------------------+-----------------+\n",
      "|    |   car_value | salary_range   |   debt_to_income_ratio |   loan_length | repaid_loan_on_prev_car   | size_of_downpayment   |   driver_tenure |\n",
      "+====+=============+================+========================+===============+===========================+=======================+=================+\n",
      "|  0 |       39811 | 40K - 60K €    |               0.63295  |            19 | False                     | 40%                   |        0.212653 |\n",
      "+----+-------------+----------------+------------------------+---------------+---------------------------+-----------------------+-----------------+\n",
      "|  1 |       12679 | 40K - 60K €    |               0.718627 |             7 | True                      | 10%                   |        4.92755  |\n",
      "+----+-------------+----------------+------------------------+---------------+---------------------------+-----------------------+-----------------+\n",
      "|  2 |       19847 | 40K - 60K €    |               0.721724 |            17 | False                     | 0%                    |        0.520817 |\n",
      "+----+-------------+----------------+------------------------+---------------+---------------------------+-----------------------+-----------------+\n",
      "|  3 |       22652 | 20K - 20K €    |               0.705992 |            16 | False                     | 10%                   |        0.453649 |\n",
      "+----+-------------+----------------+------------------------+---------------+---------------------------+-----------------------+-----------------+\n",
      "|  4 |       21268 | 60K+ €         |               0.671888 |            21 | True                      | 30%                   |        5.69526  |\n",
      "+----+-------------+----------------+------------------------+---------------+---------------------------+-----------------------+-----------------+\n"
     ]
    }
   ],
   "source": [
    "print(\n",
    "    reference[[\n",
    "        'car_value', 'salary_range', 'debt_to_income_ratio', 'loan_length', 'repaid_loan_on_prev_car', 'size_of_downpayment', 'driver_tenure'\n",
    "    ]].head().to_markdown(tablefmt=\"grid\")\n",
    ")"
   ]
  },
  {
   "cell_type": "code",
   "execution_count": null,
   "metadata": {},
   "outputs": [],
   "source": [
    "estimator = nml.CBPE(\n",
    "    y_pred_proba='y_pred_proba',\n",
    "    y_pred='y_pred',\n",
    "    y_true='repaid',\n",
    "    timestamp_column_name='timestamp',\n",
    "    metrics=['roc_auc'],\n",
    "    chunk_size=5000,\n",
    "    problem_type='classification_binary',\n",
    ")\n",
    "\n",
    "estimator.fit(reference)\n",
    "results = estimator.estimate(analysis)\n",
    "metric_fig = results.filter(period='analysis').plot()\n",
    "metric_fig.write_image(file=f\"../_static/tutorials/data_requirements/data-requirements-time-based-x-axis.svg\")"
   ]
  },
  {
   "cell_type": "code",
   "execution_count": null,
   "metadata": {},
   "outputs": [],
   "source": [
    "estimator2 = nml.CBPE(\n",
    "    y_pred_proba='y_pred_proba',\n",
    "    y_pred='y_pred',\n",
    "    y_true='repaid',\n",
    "    metrics=['roc_auc'],\n",
    "    chunk_size=5000,\n",
    "    problem_type='classification_binary',\n",
    ")\n",
    "\n",
    "estimator2.fit(reference)\n",
    "results = estimator2.estimate(analysis)\n",
    "metric_fig2 = results.filter(period='analysis').plot()\n",
    "metric_fig2.write_image(file=f\"../_static/tutorials/data_requirements/data-requirements-index-based-x-axis.svg\")\n"
   ]
  }
 ],
 "metadata": {
  "kernelspec": {
   "display_name": "Python 3 (ipykernel)",
   "language": "python",
   "name": "python3"
  },
  "language_info": {
   "codemirror_mode": {
    "name": "ipython",
    "version": 3
   },
   "file_extension": ".py",
   "mimetype": "text/x-python",
   "name": "python",
   "nbconvert_exporter": "python",
   "pygments_lexer": "ipython3",
   "version": "3.8.8"
  }
 },
 "nbformat": 4,
 "nbformat_minor": 4
}
